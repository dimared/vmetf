{
 "cells": [
  {
   "cell_type": "markdown",
   "metadata": {},
   "source": [
    "# Стационарное уравнение теплопроводности в 2D"
   ]
  },
  {
   "cell_type": "code",
   "execution_count": 1,
   "metadata": {},
   "outputs": [],
   "source": [
    "from math import sqrt\n",
    "import numpy as np\n",
    "import matplotlib.pyplot as plt\n",
    "from IPython.display import HTML\n",
    "from matplotlib.animation import FuncAnimation\n",
    "from tqdm import tqdm_notebook"
   ]
  },
  {
   "cell_type": "markdown",
   "metadata": {},
   "source": [
    "## Начальные параметры"
   ]
  },
  {
   "cell_type": "code",
   "execution_count": 77,
   "metadata": {},
   "outputs": [],
   "source": [
    "N = 30\n",
    "T = np.zeros((N,N))\n",
    "T = np.random.random((N,N))\n",
    "\n",
    "dx = 0.1\n",
    "dV = dx**2\n",
    "\n",
    "T1 = 10\n",
    "T0 = 0\n",
    "\n",
    "\n",
    "L0 = 0.1\n",
    "Lambda = np.full((N,N), L0)\n",
    "\n",
    "b = 0\n",
    "small = 1e-15\n",
    "\n",
    "\n",
    "# Lambda[:10, :10] = 1e20\n",
    "# T[1:9, 1:9] = 0\n",
    "\n",
    "def refreshT():\n",
    "    \"\"\"\n",
    "    Зададим граничные условия на температуру\n",
    "    \"\"\"\n",
    "    \n",
    "    T[0, :] = T1\n",
    "    T[:, 0] = T0\n",
    "    T[:, -1] = T0\n",
    "    T[-1, :] = T0\n",
    "    \n",
    "#     T[1:9, 1:9] = 0"
   ]
  },
  {
   "cell_type": "code",
   "execution_count": 78,
   "metadata": {},
   "outputs": [
    {
     "data": {
      "application/vnd.jupyter.widget-view+json": {
       "model_id": "5b52b250b3944c5198cf9891f13ab6d4",
       "version_major": 2,
       "version_minor": 0
      },
      "text/plain": [
       "HBox(children=(IntProgress(value=0, max=120), HTML(value='')))"
      ]
     },
     "metadata": {},
     "output_type": "display_data"
    },
    {
     "name": "stdout",
     "output_type": "stream",
     "text": [
      "\n"
     ]
    },
    {
     "data": {
      "text/plain": [
       "<matplotlib.colorbar.Colorbar at 0x1a6fbaff550>"
      ]
     },
     "execution_count": 78,
     "metadata": {},
     "output_type": "execute_result"
    },
    {
     "data": {
      "image/png": "[encoded data removed]",
      "text/plain": [
       "<Figure size 432x432 with 2 Axes>"
      ]
     },
     "metadata": {},
     "output_type": "display_data"
    }
   ],
   "source": [
    "def geta(i,j):\n",
    "    a_w = 2*Lambda[i,j-1]*Lambda[i,j]/(Lambda[i,j-1]+Lambda[i,j] + small) / dx\n",
    "    a_n = 2*Lambda[i+1,j]*Lambda[i,j]/(Lambda[i+1,j]+Lambda[i,j] + small) / dx\n",
    "    a_e = 2*Lambda[i,j+1]*Lambda[i,j]/(Lambda[i,j+1]+Lambda[i,j] + small) / dx\n",
    "    a_s = 2*Lambda[i-1,j]*Lambda[i,j]/(Lambda[i-1,j]+Lambda[i,j] + small) / dx\n",
    "    a_p = a_w + a_n + a_e + a_s  # - S_p*dV\n",
    "    # b = S_c*dV\n",
    "    \n",
    "    return [a_w, a_n, a_e, a_s, a_p]\n",
    "\n",
    "\n",
    "refreshT()\n",
    "\n",
    "for _ in tqdm_notebook(range(120)): \n",
    "    T_prom = T.copy()\n",
    "    for i in range(0,N-1):\n",
    "        P = np.zeros(N)\n",
    "        Q = np.zeros(N)\n",
    "        Q[0] = T[i, 0]\n",
    "        for j in range(0,N-1):            \n",
    "            a_w, a_n, a_e, a_s, a_p = geta(i,j)\n",
    "\n",
    "            P[j+1] = a_e / (a_p-a_w*P[j])\n",
    "            Q[j+1] = (a_n*T[i+1,j]+a_s*T[i-1,j]+b + a_w*Q[j])/(a_p-a_w*P[j])\n",
    "\n",
    "        for j in range(N-2, -1, -1):\n",
    "            T_prom[i,j] = P[j+1]*T_prom[i,j+1]+Q[j+1]\n",
    "            \n",
    "    T = T_prom.copy()\n",
    "    refreshT()\n",
    "\n",
    "    for j in range(0,N-1):\n",
    "        P = np.zeros(N)\n",
    "        Q = np.zeros(N)\n",
    "        Q[0] = T[0, j]\n",
    "        for i in range(0,N-1):\n",
    "            a_w, a_n, a_e, a_s, a_p = geta(i,j)\n",
    "\n",
    "            P[i+1] = a_n / (a_p-a_s*P[i])\n",
    "            Q[i+1] = (a_w*T[i,j-1]+a_e*T[i,j+1]+b + a_s*Q[i])/(a_p-a_s*P[i])\n",
    "\n",
    "        for i in range(N-2, -1, -1):\n",
    "            T_prom[i,j] = P[i+1]*T_prom[i+1,j]+Q[i+1]\n",
    "            \n",
    "    T = T_prom.copy()\n",
    "    refreshT()\n",
    "    \n",
    "fig, ax = plt.subplots(figsize = (6,6))\n",
    "picture = ax.imshow(T)\n",
    "ax.tick_params(labelcolor='w')\n",
    "fig.colorbar(picture)"
   ]
  },
  {
   "cell_type": "code",
   "execution_count": 79,
   "metadata": {},
   "outputs": [
    {
     "data": {
      "text/plain": [
       "<matplotlib.colorbar.Colorbar at 0x1a6fbbef5c0>"
      ]
     },
     "execution_count": 79,
     "metadata": {},
     "output_type": "execute_result"
    },
    {
     "data": {
      "image/png": "[encoded data removed]",
      "text/plain": [
       "<Figure size 432x288 with 2 Axes>"
      ]
     },
     "metadata": {
      "needs_background": "light"
     },
     "output_type": "display_data"
    }
   ],
   "source": [
    "colorinterpolation = 50\n",
    "colourMap = plt.cm.jet\n",
    "plt.contourf(T, colorinterpolation, cmap=colourMap)\n",
    "plt.colorbar()"
   ]
  },
  {
   "cell_type": "code",
   "execution_count": null,
   "metadata": {},
   "outputs": [],
   "source": []
  }
 ],
 "metadata": {
  "kernelspec": {
   "display_name": "Python 3",
   "language": "python",
   "name": "python3"
  },
  "language_info": {
   "codemirror_mode": {
    "name": "ipython",
    "version": 3
   },
   "file_extension": ".py",
   "mimetype": "text/x-python",
   "name": "python",
   "nbconvert_exporter": "python",
   "pygments_lexer": "ipython3",
   "version": "3.7.1"
  }
 },
 "nbformat": 4,
 "nbformat_minor": 2
}
