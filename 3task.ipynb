{
 "cells": [
  {
   "cell_type": "code",
   "execution_count": 132,
   "metadata": {},
   "outputs": [],
   "source": [
    "from math import sqrt\n",
    "import numpy as np\n",
    "import matplotlib.pyplot as plt\n",
    "from IPython.display import HTML\n",
    "from matplotlib.animation import FuncAnimation\n",
    "from tqdm import tqdm_notebook"
   ]
  },
  {
   "cell_type": "code",
   "execution_count": 214,
   "metadata": {},
   "outputs": [
    {
     "data": {
      "application/vnd.jupyter.widget-view+json": {
       "model_id": "fbd0b4b69a68454a8be3504ec8de6111",
       "version_major": 2,
       "version_minor": 0
      },
      "text/plain": [
       "HBox(children=(IntProgress(value=0, max=50), HTML(value='')))"
      ]
     },
     "metadata": {},
     "output_type": "display_data"
    },
    {
     "name": "stdout",
     "output_type": "stream",
     "text": [
      "\n"
     ]
    },
    {
     "data": {
      "text/plain": [
       "<matplotlib.colorbar.Colorbar at 0x198ecbe1668>"
      ]
     },
     "execution_count": 214,
     "metadata": {},
     "output_type": "execute_result"
    },
    {
     "data": {
      "image/png": "[encoded data removed]",
      "text/plain": [
       "<Figure size 432x432 with 2 Axes>"
      ]
     },
     "metadata": {},
     "output_type": "display_data"
    }
   ],
   "source": [
    "N = 40\n",
    "T = np.zeros((N,N))\n",
    "T = np.random.random((N,N))\n",
    "\n",
    "dx = 0.1\n",
    "dV = dx**2\n",
    "\n",
    "T1 = 20\n",
    "T0 = 0\n",
    "\n",
    "L0 = 1\n",
    "Lambda = np.full((N,N), L0)\n",
    "\n",
    "\n",
    "T[0, :] = T1\n",
    "T[:, 0] = T0\n",
    "T[:, -1] = T0\n",
    "T[-1, :] = T0\n",
    "\n",
    "def refreshT():\n",
    "    T[0, :] = T1\n",
    "    T[:, 0] = T0\n",
    "    T[:, -1] = T0\n",
    "    T[-1, :] = T0\n",
    "    \n",
    "refreshT()\n",
    "\n",
    "b = 0\n",
    "small = 1e-15\n",
    "\n",
    "for _ in tqdm_notebook(range(50)): \n",
    "    for i in range(1,N-1):\n",
    "        P = np.zeros(N)\n",
    "        Q = np.zeros(N)\n",
    "        Q[0] = T[i, 0]\n",
    "        for j in range(0,N-1):\n",
    "            a_w = 2*Lambda[i,j-1]*Lambda[i,j]/(Lambda[i,j-1]+Lambda[i,j] + small)\n",
    "            a_n = 2*Lambda[i+1,j]*Lambda[i,j]/(Lambda[i+1,j]+Lambda[i,j] + small)\n",
    "            a_e = 2*Lambda[i,j+1]*Lambda[i,j]/(Lambda[i,j+1]+Lambda[i,j] + small)\n",
    "            a_s = 2*Lambda[i-1,j]*Lambda[i,j]/(Lambda[i-1,j]+Lambda[i,j] + small)\n",
    "            \n",
    "            a_p = a_w + a_n + a_e + a_s\n",
    "\n",
    "            P[j+1] = a_e / (a_p-a_w*P[j])\n",
    "            Q[j+1] = (a_n*T[i+1,j]+a_s*T[i-1,j]+b + a_w*Q[j])/(a_p-a_w*P[j])\n",
    "\n",
    "        for j in range(N-2, 0, -1):\n",
    "            T[i,j] = P[j]*T[i,j+1]+Q[j]\n",
    "            \n",
    "        refreshT()\n",
    "\n",
    "    for j in range(1,N-1):\n",
    "        P = np.zeros(N)\n",
    "        Q = np.zeros(N)\n",
    "        Q[0] = T[0, j]\n",
    "        for i in range(0,N-1):\n",
    "            a_w = 2*Lambda[i,j-1]*Lambda[i,j]/(Lambda[i,j-1]+Lambda[i,j] + small)\n",
    "            a_n = 2*Lambda[i+1,j]*Lambda[i,j]/(Lambda[i+1,j]+Lambda[i,j] + small)\n",
    "            a_e = 2*Lambda[i,j+1]*Lambda[i,j]/(Lambda[i,j+1]+Lambda[i,j] + small)\n",
    "            a_s = 2*Lambda[i-1,j]*Lambda[i,j]/(Lambda[i-1,j]+Lambda[i,j] + small)\n",
    "            \n",
    "            a_p = a_w + a_n + a_e + a_s\n",
    "\n",
    "            P[i+1] = a_n / (a_p-a_s*P[i])\n",
    "            Q[i+1] = (a_w*T[i,j+1]+a_e*T[i,j-1]+b + a_s*Q[i])/(a_p-a_s*P[i])\n",
    "\n",
    "        for i in range(N-2, 0, -1):\n",
    "            T[i,j] = P[i]*T[i+1,j]+Q[i]\n",
    "            \n",
    "        refreshT()\n",
    "    \n",
    "fig, ax = plt.subplots(figsize = (6,6))\n",
    "picture = ax.imshow(T)\n",
    "ax.tick_params(labelcolor='w')\n",
    "fig.colorbar(picture)"
   ]
  },
  {
   "cell_type": "code",
   "execution_count": null,
   "metadata": {},
   "outputs": [],
   "source": []
  },
  {
   "cell_type": "code",
   "execution_count": null,
   "metadata": {},
   "outputs": [],
   "source": []
  },
  {
   "cell_type": "code",
   "execution_count": null,
   "metadata": {},
   "outputs": [],
   "source": []
  },
  {
   "cell_type": "code",
   "execution_count": 200,
   "metadata": {},
   "outputs": [
    {
     "data": {
      "application/vnd.jupyter.widget-view+json": {
       "model_id": "09c4b768d08643ba842b5b2bafb7da7e",
       "version_major": 2,
       "version_minor": 0
      },
      "text/plain": [
       "HBox(children=(IntProgress(value=0, max=600), HTML(value='')))"
      ]
     },
     "metadata": {},
     "output_type": "display_data"
    },
    {
     "name": "stdout",
     "output_type": "stream",
     "text": [
      "\n"
     ]
    }
   ],
   "source": [
    "N = 40\n",
    "T = np.zeros((N,N))\n",
    "T = np.random.random((N,N))\n",
    "\n",
    "dx = 0.1\n",
    "dV = dx**2\n",
    "\n",
    "T1 = 20\n",
    "T0 = 20\n",
    "\n",
    "L0 = 0.1\n",
    "Lambda = np.full((N,N), L0)\n",
    "\n",
    "\n",
    "T[0, :] = T1\n",
    "T[:, 0] = T0\n",
    "T[:, -1] = T0\n",
    "T[-1, :] = T0\n",
    "\n",
    "# Lambda[:N//5, :N//5] = np.inf\n",
    "# Lambda[:N//5, :N//5] = 1e20\n",
    "def refreshT():\n",
    "#     T[:N//5, :N//5] = T1\n",
    "#     T[4*N//5:, :N//5] = T1\n",
    "#     T[:N//5, 4*N//5:] = T1\n",
    "#     T[4*N//5:, 4*N//5:] = T1\n",
    "\n",
    "    T[0, :] = T1\n",
    "    T[:, 0] = T0\n",
    "    T[:, -1] = T0\n",
    "    T[-1, :] = T0\n",
    "    \n",
    "refreshT()\n",
    "\n",
    "b = 0\n",
    "\n",
    "for _ in tqdm_notebook(range(600)): \n",
    "    for i in range(1,N-2):\n",
    "        P = np.zeros(N)\n",
    "        Q = np.zeros(N)\n",
    "        for j in range(1,N-1):\n",
    "            a_w = 2*Lambda[i,j-1]*Lambda[i,j]/(Lambda[i,j-1]+Lambda[i,j])\n",
    "            a_n = 2*Lambda[i-1,j]*Lambda[i,j]/(Lambda[i-1,j]+Lambda[i,j])\n",
    "            a_e = 2*Lambda[i,j+1]*Lambda[i,j]/(Lambda[i,j+1]+Lambda[i,j])\n",
    "            a_s = 2*Lambda[i+1,j]*Lambda[i,j]/(Lambda[i+1,j]+Lambda[i,j])\n",
    "            \n",
    "            a_p = a_w + a_n + a_e + a_s\n",
    "\n",
    "            P[j] = a_e / (a_p-a_w*P[j-1] +0.01)\n",
    "            Q[j] = (a_n*T[i-1,j]+a_s*T[i+1,j]+b - a_w*Q[j-1])/(a_p-a_w*P[j-1] +0.01)\n",
    "\n",
    "        for j in range(N-2, 0, -1):\n",
    "            T[i,j] = P[j]*T[i,j+1]+Q[j]\n",
    "            \n",
    "#     refreshT()\n",
    "\n",
    "    for j in range(1,N-2):\n",
    "        P = np.zeros(N)\n",
    "        Q = np.zeros(N)\n",
    "        for i in range(1,N-1):\n",
    "            a_w = 2*Lambda[i,j-1]*Lambda[i,j]/(Lambda[i,j-1]+Lambda[i,j])\n",
    "            a_n = 2*Lambda[i-1,j]*Lambda[i,j]/(Lambda[i-1,j]+Lambda[i,j])\n",
    "            a_e = 2*Lambda[i,j+1]*Lambda[i,j]/(Lambda[i,j+1]+Lambda[i,j])\n",
    "            a_s = 2*Lambda[i+1,j]*Lambda[i,j]/(Lambda[i+1,j]+Lambda[i,j])\n",
    "            \n",
    "            a_p = a_w + a_n + a_e + a_s\n",
    "\n",
    "            P[i] = a_s / (a_p-a_n*P[i-1] +0.01)\n",
    "            Q[i] = (a_w*T[i,j-1]+a_e*T[i,j+1]+b - a_n*Q[i-1])/(a_p-a_n*P[i-1] +0.01)\n",
    "\n",
    "        for i in range(N-2, 0, -1):\n",
    "            T[i,j] = P[i]*T[i+1,j]+Q[i]\n",
    "            \n",
    "    refreshT()"
   ]
  },
  {
   "cell_type": "code",
   "execution_count": 179,
   "metadata": {},
   "outputs": [
    {
     "data": {
      "image/png": "[encoded data removed]",
      "text/plain": [
       "<Figure size 432x432 with 2 Axes>"
      ]
     },
     "metadata": {},
     "output_type": "display_data"
    }
   ],
   "source": [
    "fig, ax = plt.subplots(figsize = (6,6))\n",
    "picture = ax.imshow(T)\n",
    "ax.tick_params(labelcolor='w')\n",
    "fig.colorbar(picture)"
   ]
  },
  {
   "cell_type": "code",
   "execution_count": 156,
   "metadata": {},
   "outputs": [],
   "source": [
    "save_T = T.copy()"
   ]
  },
  {
   "cell_type": "code",
   "execution_count": 171,
   "metadata": {},
   "outputs": [
    {
     "data": {
      "text/plain": [
       "-2.8875656679118457e-11"
      ]
     },
     "execution_count": 171,
     "metadata": {},
     "output_type": "execute_result"
    }
   ],
   "source": [
    "(save_T - T).mean()"
   ]
  },
  {
   "cell_type": "code",
   "execution_count": null,
   "metadata": {},
   "outputs": [],
   "source": []
  },
  {
   "cell_type": "code",
   "execution_count": 197,
   "metadata": {},
   "outputs": [
    {
     "data": {
      "text/plain": [
       "<matplotlib.colorbar.Colorbar at 0x198ec532d30>"
      ]
     },
     "execution_count": 197,
     "metadata": {},
     "output_type": "execute_result"
    },
    {
     "data": {
      "image/png": "[encoded data removed]",
      "text/plain": [
       "<Figure size 432x432 with 2 Axes>"
      ]
     },
     "metadata": {},
     "output_type": "display_data"
    }
   ],
   "source": [
    "dx = 0;\n",
    "Tb = 20;\n",
    "Tb0 = 20;\n",
    "\n",
    "imax = jmax = 40\n",
    "T = np.random.random((imax,jmax))\n",
    "\n",
    "k = 1\n",
    "dh = 0.5\n",
    "FaceArea = dh**2\n",
    "delt = 0.1\n",
    "\n",
    "for _ in range(600):\n",
    "    for i in range(imax):\n",
    "        for j in range(jmax):\n",
    "            Tc = T[i, j];\n",
    "            dx = dh;\n",
    "\n",
    "            if (i == imax - 1):\n",
    "                Te = Tb0; \n",
    "                dx = dx / 2;\n",
    "            else:\n",
    "                Te = T[i + 1, j];\n",
    "            FluxE = (-k * FaceArea) / dx;\n",
    "\n",
    "            if (i == 0):\n",
    "                Tw = Tb0; \n",
    "                dx = dx / 2;\n",
    "            else:\n",
    "                Tw = T[i - 1, j];\n",
    "            FluxW = (-k * FaceArea) / dx;\n",
    "\n",
    "            if (j == jmax - 1):\n",
    "                Tn = Tb0; \n",
    "                dx = dx / 2;\n",
    "            else:\n",
    "                Tn = T[i, j + 1];\n",
    "            FluxN = (-k * FaceArea) / dx;\n",
    "\n",
    "            if (j == 0):\n",
    "                Ts = Tb; \n",
    "                dx = dx / 2\n",
    "            else:\n",
    "                Ts = T[i, j - 1];\n",
    "            FluxS = (-k * FaceArea) / dx;\n",
    "\n",
    "            FluxC = FluxE + FluxW + FluxN + FluxS;\n",
    "\n",
    "            T[i, j] = Tc + delt * (FluxC * Tc - (FluxE * Te + FluxW * Tw + FluxN * Tn + FluxS * Ts));\n",
    "\n",
    "\n",
    "fig, ax = plt.subplots(figsize = (6,6))\n",
    "picture = ax.imshow(T.T)\n",
    "ax.tick_params(labelcolor='w')\n",
    "fig.colorbar(picture)"
   ]
  },
  {
   "cell_type": "code",
   "execution_count": 201,
   "metadata": {},
   "outputs": [
    {
     "data": {
      "text/plain": [
       "<matplotlib.colorbar.Colorbar at 0x198ec6bc5c0>"
      ]
     },
     "execution_count": 201,
     "metadata": {},
     "output_type": "execute_result"
    },
    {
     "data": {
      "image/png": "[encoded data removed]",
      "text/plain": [
       "<Figure size 432x432 with 2 Axes>"
      ]
     },
     "metadata": {},
     "output_type": "display_data"
    }
   ],
   "source": [
    "fig, ax = plt.subplots(figsize = (6,6))\n",
    "picture = ax.imshow(T)\n",
    "ax.tick_params(labelcolor='w')\n",
    "fig.colorbar(picture)"
   ]
  },
  {
   "cell_type": "code",
   "execution_count": null,
   "metadata": {},
   "outputs": [],
   "source": [
    "#\n",
    "# T - шаг по времени\n",
    "# hx = hy шаги по координатам\n",
    "#\n",
    "def solveLayer(vv):\n",
    "    for k in range(1, Nxy + 1): # Первый полушаг по времени\n",
    "#Заполнение коэффициентов СЛУ для неявной схемы. Крайние элементы VV всегда  = 0 (гран условия)\n",
    "        a = [0 if i == 1 else - 0.5 * T / (hx ** 2) for i in range(1, Nxy + 1)]\n",
    "        b = [T / (hx ** 2) + 1] * Nxy\n",
    "        c = [0 if i == Nxy else -0.5 * T / (hx ** 2) for i in range(1, Nxy + 1)]\n",
    "        d = [vv[i][k] * (1 - T / (hy ** 2)) + (vv[i][k + 1] + vv[i][k - 1]) * 0.5 * T / (hy ** 2) for i in\n",
    "             range(1, Nxy + 1)]\n",
    "        for j in range(1, Nxy):\n",
    "            t = a[j] / b[j - 1]\n",
    "            a[j] = 0\n",
    "            b[j] -= t * c[j - 1]\n",
    "            d[j] -= t * d[j - 1]\n",
    "        vv[Nxy][k] = d[Nxy - 1] / b[Nxy - 1]\n",
    "        for i in range(Nxy - 1, 0, -1):\n",
    "            vv[i][k] = 1 / b[i - 1] * (d[i - 1] - c[i - 1] * vv[i + 1][k])\n",
    "\n",
    "    for k in range(1, Nxy + 1): # Второй полушаг\n",
    "        a = [0 if i == 1 else - 0.5 * T / (hx ** 2) for i in range(1, Nxy + 1)]\n",
    "        b = [T / (hx ** 2) + 1] * Nxy\n",
    "        c = [0 if i == Nxy else -0.5 * T / (hx ** 2) for i in range(1, Nxy + 1)]\n",
    "        d = [vv[k][i] * (1 - T / (hy ** 2)) + (vv[k + 1][i] + vv[k - 1][i]) * 0.5 * T / (hy ** 2) for i in\n",
    "             range(1, Nxy + 1)]\n",
    "        for j in range(1, Nxy):\n",
    "            t = a[j] / b[j - 1]\n",
    "            a[j] = 0\n",
    "            b[j] -= t * c[j - 1]\n",
    "            d[j] -= t * d[j - 1]\n",
    "        vv[k][Nxy] = d[Nxy - 1] / b[Nxy - 1]\n",
    "        for i in range(Nxy - 1, 0, -1):\n",
    "            vv[k][i] = 1 / b[i - 1] * (d[i - 1] - c[i - 1] * vv[k][i + 1])\n",
    "    return vv"
   ]
  },
  {
   "cell_type": "code",
   "execution_count": null,
   "metadata": {},
   "outputs": [],
   "source": []
  },
  {
   "cell_type": "code",
   "execution_count": null,
   "metadata": {},
   "outputs": [],
   "source": []
  },
  {
   "cell_type": "code",
   "execution_count": 204,
   "metadata": {},
   "outputs": [
    {
     "name": "stdout",
     "output_type": "stream",
     "text": [
      "Please wait for a moment\n",
      "Iteration finished\n"
     ]
    },
    {
     "data": {
      "image/png": "[encoded data removed]",
      "text/plain": [
       "<Figure size 432x288 with 2 Axes>"
      ]
     },
     "metadata": {
      "needs_background": "light"
     },
     "output_type": "display_data"
    },
    {
     "name": "stdout",
     "output_type": "stream",
     "text": [
      "\n"
     ]
    }
   ],
   "source": [
    "# Simple Numerical Laplace Equation Solution using Finite Difference Method\n",
    "import numpy as np\n",
    "import matplotlib.pyplot as plt\n",
    "\n",
    "# Set maximum iteration\n",
    "maxIter = 500\n",
    "\n",
    "# Set Dimension and delta\n",
    "lenX = lenY = 20 #we set it rectangular\n",
    "delta = 1\n",
    "\n",
    "# Boundary condition\n",
    "Ttop = 100\n",
    "Tbottom = 0\n",
    "Tleft = 0\n",
    "Tright = 30\n",
    "\n",
    "# Initial guess of interior grid\n",
    "Tguess = 30\n",
    "\n",
    "# Set colour interpolation and colour map\n",
    "colorinterpolation = 50\n",
    "colourMap = plt.cm.jet #you can try: colourMap = plt.cm.coolwarm\n",
    "\n",
    "# Set meshgrid\n",
    "X, Y = np.meshgrid(np.arange(0, lenX), np.arange(0, lenY))\n",
    "\n",
    "# Set array size and set the interior value with Tguess\n",
    "T = np.empty((lenX, lenY))\n",
    "T.fill(Tguess)\n",
    "\n",
    "# Set Boundary condition\n",
    "T[(lenY-1):, :] = Ttop\n",
    "T[:1, :] = Tbottom\n",
    "T[:, (lenX-1):] = Tright\n",
    "T[:, :1] = Tleft\n",
    "\n",
    "# Iteration (We assume that the iteration is convergence in maxIter = 500)\n",
    "print(\"Please wait for a moment\")\n",
    "for iteration in range(0, maxIter):\n",
    "    for i in range(1, lenX-1, delta):\n",
    "        for j in range(1, lenY-1, delta):\n",
    "            T[i, j] = 0.25 * (T[i+1][j] + T[i-1][j] + T[i][j+1] + T[i][j-1])\n",
    "\n",
    "print(\"Iteration finished\")\n",
    "\n",
    "# Configure the contour\n",
    "plt.title(\"Contour of Temperature\")\n",
    "plt.contourf(X, Y, T, colorinterpolation, cmap=colourMap)\n",
    "\n",
    "# Set Colorbar\n",
    "plt.colorbar()\n",
    "\n",
    "# Show the result in the plot window\n",
    "plt.show()\n",
    "\n",
    "print(\"\")"
   ]
  },
  {
   "cell_type": "code",
   "execution_count": null,
   "metadata": {},
   "outputs": [],
   "source": []
  },
  {
   "cell_type": "code",
   "execution_count": null,
   "metadata": {},
   "outputs": [],
   "source": []
  }
 ],
 "metadata": {
  "kernelspec": {
   "display_name": "Python 3",
   "language": "python",
   "name": "python3"
  },
  "language_info": {
   "codemirror_mode": {
    "name": "ipython",
    "version": 3
   },
   "file_extension": ".py",
   "mimetype": "text/x-python",
   "name": "python",
   "nbconvert_exporter": "python",
   "pygments_lexer": "ipython3",
   "version": "3.7.1"
  }
 },
 "nbformat": 4,
 "nbformat_minor": 2
}
