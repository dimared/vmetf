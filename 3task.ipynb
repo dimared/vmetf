{
 "cells": [
  {
   "cell_type": "code",
   "execution_count": 132,
   "metadata": {},
   "outputs": [],
   "source": [
    "from math import sqrt\n",
    "import numpy as np\n",
    "import matplotlib.pyplot as plt\n",
    "from IPython.display import HTML\n",
    "from matplotlib.animation import FuncAnimation\n",
    "from tqdm import tqdm_notebook"
   ]
  },
  {
   "cell_type": "code",
   "execution_count": 168,
   "metadata": {},
   "outputs": [
    {
     "data": {
      "application/vnd.jupyter.widget-view+json": {
       "model_id": "6f04b87603a243399760b8c996b889a8",
       "version_major": 2,
       "version_minor": 0
      },
      "text/plain": [
       "HBox(children=(IntProgress(value=0, max=400), HTML(value='')))"
      ]
     },
     "metadata": {},
     "output_type": "display_data"
    },
    {
     "name": "stdout",
     "output_type": "stream",
     "text": [
      "\n"
     ]
    }
   ],
   "source": [
    "N = 20\n",
    "T = np.zeros((N,N))\n",
    "T = np.random.random((N,N))\n",
    "\n",
    "dx = 0.1\n",
    "dV = dx**2\n",
    "\n",
    "T1 = 150\n",
    "T0 = 150\n",
    "\n",
    "L0 = 0.1\n",
    "Lambda = np.full((N,N), L0)\n",
    "\n",
    "\n",
    "T[0, :] = T1\n",
    "T[:, 0] = T0\n",
    "T[:, -1] = T0\n",
    "T[-1, :] = T0\n",
    "\n",
    "# Lambda[:N//5, :N//5] = np.inf\n",
    "# Lambda[:N//5, :N//5] = 1e20\n",
    "def refreshT():\n",
    "    T[:N//5, :N//5] = T1\n",
    "    T[4*N//5:, :N//5] = T1\n",
    "    T[:N//5, 4*N//5:] = T1\n",
    "    T[4*N//5:, 4*N//5:] = T1\n",
    "    \n",
    "refreshT()\n",
    "\n",
    "b = 0\n",
    "\n",
    "for _ in tqdm_notebook(range(400)): \n",
    "    for i in range(1,N-2):\n",
    "        P = np.zeros(N)\n",
    "        Q = np.zeros(N)\n",
    "        for j in range(1,N-1):\n",
    "            a_w = 2*Lambda[i,j-1]*Lambda[i,j]/(Lambda[i,j-1]+Lambda[i,j])\n",
    "            a_n = 2*Lambda[i-1,j]*Lambda[i,j]/(Lambda[i-1,j]+Lambda[i,j])\n",
    "            a_e = 2*Lambda[i,j+1]*Lambda[i,j]/(Lambda[i,j+1]+Lambda[i,j])\n",
    "            a_s = 2*Lambda[i+1,j]*Lambda[i,j]/(Lambda[i+1,j]+Lambda[i,j])\n",
    "            \n",
    "            a_p = a_w + a_n + a_e + a_s\n",
    "\n",
    "            P[j] = a_e / (a_p-a_w*P[j-1] +0.01)\n",
    "            Q[j] = (a_n*T[i-1,j]+a_s*T[i+1,j]+b - a_w*Q[j-1])/(a_p-a_w*P[j-1] +0.01)\n",
    "\n",
    "        for j in range(N-2, 0, -1):\n",
    "            T[i,j] = P[j]*T[i,j+1]+Q[j]\n",
    "            \n",
    "#     refreshT()\n",
    "\n",
    "    for j in range(1,N-2):\n",
    "        P = np.zeros(N)\n",
    "        Q = np.zeros(N)\n",
    "        for i in range(1,N-1):\n",
    "            a_w = 2*Lambda[i,j-1]*Lambda[i,j]/(Lambda[i,j-1]+Lambda[i,j])\n",
    "            a_n = 2*Lambda[i-1,j]*Lambda[i,j]/(Lambda[i-1,j]+Lambda[i,j])\n",
    "            a_e = 2*Lambda[i,j+1]*Lambda[i,j]/(Lambda[i,j+1]+Lambda[i,j])\n",
    "            a_s = 2*Lambda[i+1,j]*Lambda[i,j]/(Lambda[i+1,j]+Lambda[i,j])\n",
    "            \n",
    "            a_p = a_w + a_n + a_e + a_s\n",
    "\n",
    "            P[i] = a_s / (a_p-a_n*P[i-1] +0.01)\n",
    "            Q[i] = (a_w*T[i,j-1]+a_e*T[i,j+1]+b - a_n*Q[i-1])/(a_p-a_n*P[i-1] +0.01)\n",
    "\n",
    "        for i in range(N-2, 0, -1):\n",
    "            T[i,j] = P[i]*T[i+1,j]+Q[i]\n",
    "            \n",
    "    refreshT()"
   ]
  },
  {
   "cell_type": "code",
   "execution_count": 169,
   "metadata": {},
   "outputs": [
    {
     "data": {
      "text/plain": [
       "<matplotlib.colorbar.Colorbar at 0x198ea98b0b8>"
      ]
     },
     "execution_count": 169,
     "metadata": {},
     "output_type": "execute_result"
    },
    {
     "data": {
      "image/png": "[encoded data removed]",
      "text/plain": [
       "<Figure size 432x432 with 2 Axes>"
      ]
     },
     "metadata": {
      "needs_background": "light"
     },
     "output_type": "display_data"
    }
   ],
   "source": [
    "fig, ax = plt.subplots(figsize = (6,6))\n",
    "picture = ax.imshow(T)\n",
    "fig.colorbar(picture)"
   ]
  },
  {
   "cell_type": "code",
   "execution_count": 156,
   "metadata": {},
   "outputs": [],
   "source": [
    "save_T = T.copy()"
   ]
  },
  {
   "cell_type": "code",
   "execution_count": 171,
   "metadata": {},
   "outputs": [
    {
     "data": {
      "text/plain": [
       "-2.8875656679118457e-11"
      ]
     },
     "execution_count": 171,
     "metadata": {},
     "output_type": "execute_result"
    }
   ],
   "source": [
    "(save_T - T).mean()"
   ]
  },
  {
   "cell_type": "code",
   "execution_count": null,
   "metadata": {},
   "outputs": [],
   "source": []
  }
 ],
 "metadata": {
  "kernelspec": {
   "display_name": "Python 3",
   "language": "python",
   "name": "python3"
  },
  "language_info": {
   "codemirror_mode": {
    "name": "ipython",
    "version": 3
   },
   "file_extension": ".py",
   "mimetype": "text/x-python",
   "name": "python",
   "nbconvert_exporter": "python",
   "pygments_lexer": "ipython3",
   "version": "3.7.1"
  }
 },
 "nbformat": 4,
 "nbformat_minor": 2
}
