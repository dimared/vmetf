{
 "cells": [
  {
   "cell_type": "code",
   "execution_count": 101,
   "metadata": {},
   "outputs": [],
   "source": [
    "from math import sqrt\n",
    "import numpy as np\n",
    "import matplotlib.pyplot as plt\n",
    "from IPython.display import HTML\n",
    "from matplotlib.animation import FuncAnimation\n",
    "from tqdm import tqdm_notebook"
   ]
  },
  {
   "cell_type": "code",
   "execution_count": 106,
   "metadata": {},
   "outputs": [
    {
     "data": {
      "application/vnd.jupyter.widget-view+json": {
       "model_id": "6aa9fef94b6b454a85d94603b99767d6",
       "version_major": 2,
       "version_minor": 0
      },
      "text/plain": [
       "HBox(children=(IntProgress(value=0, max=50), HTML(value='')))"
      ]
     },
     "metadata": {},
     "output_type": "display_data"
    },
    {
     "name": "stderr",
     "output_type": "stream",
     "text": [
      "C:\\work\\Anaconda3\\lib\\site-packages\\ipykernel_launcher.py:57: RuntimeWarning: overflow encountered in double_scalars\n",
      "C:\\work\\Anaconda3\\lib\\site-packages\\ipykernel_launcher.py:54: RuntimeWarning: invalid value encountered in double_scalars\n"
     ]
    },
    {
     "name": "stdout",
     "output_type": "stream",
     "text": [
      "\n"
     ]
    }
   ],
   "source": [
    "N = 100\n",
    "T = np.zeros((N,N))\n",
    "T = np.random.random((N,N))\n",
    "\n",
    "dx = 0.1\n",
    "dV = dx**2\n",
    "\n",
    "T1 = 0.5\n",
    "T0 = 0.5\n",
    "\n",
    "L0 = 1\n",
    "Lambda = np.full((N,N), L0)\n",
    "\n",
    "\n",
    "T[0, :] = T1\n",
    "T[:, 0] = T0\n",
    "T[:, -1] = T0\n",
    "T[-1, :] = T0\n",
    "\n",
    "# Lambda[:N//5, :N//5] = np.inf\n",
    "# Lambda[:N//5, :N//5] = 1e20\n",
    "\n",
    "b = 0\n",
    "\n",
    "for _ in tqdm_notebook(range(50)): \n",
    "    for i in range(1,N-2):\n",
    "        P = np.zeros(N)\n",
    "        Q = np.zeros(N)\n",
    "        for j in range(1,N-1):\n",
    "            a_w = 2*Lambda[i,j-1]*Lambda[i,j]/(Lambda[i,j-1]+Lambda[i,j])\n",
    "            a_n = 2*Lambda[i-1,j]*Lambda[i,j]/(Lambda[i-1,j]+Lambda[i,j])\n",
    "            a_p = 2*Lambda[i,j]*Lambda[i,j]/(Lambda[i,j]+Lambda[i,j])\n",
    "            a_e = 2*Lambda[i,j+1]*Lambda[i,j]/(Lambda[i,j+1]+Lambda[i,j])\n",
    "            a_s = 2*Lambda[i+1,j]*Lambda[i,j]/(Lambda[i+1,j]+Lambda[i,j])\n",
    "\n",
    "            P[j] = a_e / (a_p-a_w*P[j-1] +0.1)\n",
    "            Q[j] = (a_n*T[i-1,j]+a_s*T[i+1,j]+b - a_w*Q[j-1])/(a_p-a_w*P[j-1] +0.1)\n",
    "\n",
    "        for j in range(N-2, 0, -1):\n",
    "            T[i,j] = P[j]*T[i,j+1]+Q[j]\n",
    "\n",
    "\n",
    "    for j in range(1,N-2):\n",
    "        P = np.zeros(N)\n",
    "        Q = np.zeros(N)\n",
    "        for i in range(1,N-1):\n",
    "            a_w = 2*Lambda[i,j-1]*Lambda[i,j]/(Lambda[i,j-1]+Lambda[i,j])\n",
    "            a_n = 2*Lambda[i-1,j]*Lambda[i,j]/(Lambda[i-1,j]+Lambda[i,j])\n",
    "            a_p = 2*Lambda[i,j]*Lambda[i,j]/(Lambda[i,j]+Lambda[i,j])\n",
    "            a_e = 2*Lambda[i,j+1]*Lambda[i,j]/(Lambda[i,j+1]+Lambda[i,j])\n",
    "            a_s = 2*Lambda[i+1,j]*Lambda[i,j]/(Lambda[i+1,j]+Lambda[i,j])\n",
    "\n",
    "            P[i] = a_s / (a_p-a_n*P[i-1] +0.1)\n",
    "            Q[i] = (a_w*T[i,j-1]+a_e*T[i,j+1]+b - a_n*Q[i-1])/(a_p-a_n*P[i-1] +0.1)\n",
    "\n",
    "        for i in range(N-2, 0, -1):\n",
    "            T[i,j] = P[i]*T[i+1,j]+Q[i]"
   ]
  },
  {
   "cell_type": "code",
   "execution_count": null,
   "metadata": {},
   "outputs": [],
   "source": []
  },
  {
   "cell_type": "code",
   "execution_count": 107,
   "metadata": {},
   "outputs": [
    {
     "data": {
      "text/plain": [
       "<matplotlib.colorbar.Colorbar at 0x198e7aaf0f0>"
      ]
     },
     "execution_count": 107,
     "metadata": {},
     "output_type": "execute_result"
    },
    {
     "data": {
      "image/png": "[encoded data removed]",
      "text/plain": [
       "<Figure size 432x432 with 2 Axes>"
      ]
     },
     "metadata": {
      "needs_background": "light"
     },
     "output_type": "display_data"
    }
   ],
   "source": [
    "fig, ax = plt.subplots(figsize = (6,6))\n",
    "picture = ax.imshow(T)\n",
    "fig.colorbar(picture)"
   ]
  },
  {
   "cell_type": "code",
   "execution_count": 104,
   "metadata": {},
   "outputs": [
    {
     "data": {
      "text/plain": [
       "array([[0.5       ,        nan,        nan, ...,        nan, 0.5       ,\n",
       "        0.5       ],\n",
       "       [       nan,        nan,        nan, ...,        nan,        nan,\n",
       "        0.5       ],\n",
       "       [       nan,        nan,        nan, ...,        nan,        nan,\n",
       "        0.5       ],\n",
       "       ...,\n",
       "       [       nan,        nan,        nan, ...,        nan,        nan,\n",
       "        0.5       ],\n",
       "       [0.5       ,        nan,        nan, ...,        nan, 0.50289771,\n",
       "        0.5       ],\n",
       "       [0.5       , 0.5       , 0.5       , ..., 0.5       , 0.5       ,\n",
       "        0.5       ]])"
      ]
     },
     "execution_count": 104,
     "metadata": {},
     "output_type": "execute_result"
    }
   ],
   "source": [
    "T"
   ]
  },
  {
   "cell_type": "code",
   "execution_count": null,
   "metadata": {},
   "outputs": [],
   "source": []
  }
 ],
 "metadata": {
  "kernelspec": {
   "display_name": "Python 3",
   "language": "python",
   "name": "python3"
  },
  "language_info": {
   "codemirror_mode": {
    "name": "ipython",
    "version": 3
   },
   "file_extension": ".py",
   "mimetype": "text/x-python",
   "name": "python",
   "nbconvert_exporter": "python",
   "pygments_lexer": "ipython3",
   "version": "3.7.1"
  }
 },
 "nbformat": 4,
 "nbformat_minor": 2
}
