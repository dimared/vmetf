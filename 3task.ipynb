{
 "cells": [
  {
   "cell_type": "markdown",
   "metadata": {},
   "source": [
    "# Стационарное уравнение теплопроводности в 2D"
   ]
  },
  {
   "cell_type": "code",
   "execution_count": 1,
   "metadata": {},
   "outputs": [],
   "source": [
    "from math import sqrt\n",
    "import numpy as np\n",
    "import matplotlib.pyplot as plt\n",
    "from IPython.display import HTML\n",
    "from matplotlib.animation import FuncAnimation\n",
    "from tqdm import tqdm_notebook"
   ]
  },
  {
   "cell_type": "markdown",
   "metadata": {},
   "source": [
    "## Начальные параметры"
   ]
  },
  {
   "cell_type": "code",
   "execution_count": 39,
   "metadata": {},
   "outputs": [],
   "source": [
    "N = 100\n",
    "T = np.random.random((N,N))\n",
    "\n",
    "dx = 0.1\n",
    "dV = dx**2\n",
    "\n",
    "T1 = 50\n",
    "T0 = 0\n",
    "\n",
    "q_b = -0.1\n",
    "\n",
    "L0 = 10\n",
    "Lambda = np.full((N,N), L0)\n",
    "\n",
    "S_c = np.zeros((N,N))\n",
    "S_p = np.zeros((N,N))\n",
    "\n",
    "small = 1e-30\n",
    "\n",
    "# Определим внутренние граничные условия\n",
    "blocks = 5    # >= 1\n",
    "\n",
    "# 1\n",
    "Lambda[(blocks-1)*N//blocks:, :N//blocks] = 1e40\n",
    "\n",
    "# 2\n",
    "Lambda[(blocks-1)*N//blocks:, (blocks-1)*N//blocks:] = small\n",
    "\n",
    "\n",
    "# 3\n",
    "T0_internal = 45\n",
    "M = 1e20\n",
    "\n",
    "# S_c[N*(blocks-1)//(2*blocks):N*(blocks+1)//(2*blocks), N*(blocks-1)//(2*blocks):N*(blocks+1)//(2*blocks)] = M*T0_internal\n",
    "# S_p[N*(blocks-1)//(2*blocks):N*(blocks+1)//(2*blocks), N*(blocks-1)//(2*blocks):N*(blocks+1)//(2*blocks)] = -M\n",
    "x_c = N//2\n",
    "y_c = N//2\n",
    "for x in range(N):\n",
    "    for y in range(N):\n",
    "        if np.sqrt((x - x_c)**2+(y - y_c)**2) <= N//(3*blocks):\n",
    "            S_c[x,y] = M*T0_internal\n",
    "            S_p[x,y] = -M\n",
    "\n",
    "\n",
    "# 4\n",
    "q_b_internal = 500\n",
    "Lambda[:N//blocks, (blocks-1)*N//blocks:] = small\n",
    "S_c[N//blocks:N//blocks+2, (blocks-1)*N//blocks:] = q_b_internal * dx / dV\n",
    "\n",
    "# 5\n",
    "T1_internal = 18\n",
    "T2_internal = 36\n",
    "Lambda[:N//blocks, :N//blocks] = small\n",
    "S_c[N//blocks:N//blocks+2, :N//blocks] = dx/dV * 2*L0/dx * T2_internal\n",
    "S_p[N//blocks:N//blocks+2, :N//blocks] = -dx/dV * 2*L0/dx\n",
    "\n",
    "S_c[:N//blocks, N//blocks:N//blocks+2] = dx/dV * 2*L0/dx * T1_internal\n",
    "S_p[:N//blocks, N//blocks:N//blocks+2] = -dx/dV * 2*L0/dx\n",
    "\n",
    "\n",
    "def refreshT():\n",
    "    \"\"\"\n",
    "    Зададим граничные условия на температуру\n",
    "    \"\"\"\n",
    "    \n",
    "    # внизу  - поток q = 0\n",
    "    T[0, :] = T[1, :]\n",
    "    # слева - поток q != 0\n",
    "    T[:, 0] = T[:, 1] + q_b * dx / L0\n",
    "    # справа - T = 0\n",
    "    T[:, -1] = T0\n",
    "    # вверху - T != 0\n",
    "    T[-1, :] = T1\n",
    "    \n",
    "    T[80:, 0] = T1"
   ]
  },
  {
   "cell_type": "code",
   "execution_count": 40,
   "metadata": {},
   "outputs": [
    {
     "data": {
      "application/vnd.jupyter.widget-view+json": {
       "model_id": "3508c3ec9ac44202898c1d4fd16483fb",
       "version_major": 2,
       "version_minor": 0
      },
      "text/plain": [
       "HBox(children=(IntProgress(value=0, max=20), HTML(value='')))"
      ]
     },
     "metadata": {},
     "output_type": "display_data"
    },
    {
     "name": "stderr",
     "output_type": "stream",
     "text": [
      "C:\\work\\Anaconda3\\lib\\site-packages\\ipykernel_launcher.py:5: RuntimeWarning: overflow encountered in long_scalars\n",
      "  \"\"\"\n",
      "C:\\work\\Anaconda3\\lib\\site-packages\\ipykernel_launcher.py:3: RuntimeWarning: overflow encountered in long_scalars\n",
      "  This is separate from the ipykernel package so we can avoid doing imports until\n",
      "C:\\work\\Anaconda3\\lib\\site-packages\\ipykernel_launcher.py:4: RuntimeWarning: overflow encountered in long_scalars\n",
      "  after removing the cwd from sys.path.\n",
      "C:\\work\\Anaconda3\\lib\\site-packages\\ipykernel_launcher.py:2: RuntimeWarning: overflow encountered in long_scalars\n",
      "  \n"
     ]
    },
    {
     "name": "stdout",
     "output_type": "stream",
     "text": [
      "\n"
     ]
    },
    {
     "data": {
      "text/plain": [
       "<matplotlib.colorbar.Colorbar at 0x1503dc393c8>"
      ]
     },
     "execution_count": 40,
     "metadata": {},
     "output_type": "execute_result"
    },
    {
     "data": {
      "image/png": "[encoded data removed]",
      "text/plain": [
       "<Figure size 936x576 with 2 Axes>"
      ]
     },
     "metadata": {
      "needs_background": "light"
     },
     "output_type": "display_data"
    }
   ],
   "source": [
    "def getab(i,j):\n",
    "    a_w = 2*Lambda[i,j-1]*Lambda[i,j]/(Lambda[i,j-1]+Lambda[i,j] + small) / dx\n",
    "    a_n = 2*Lambda[i+1,j]*Lambda[i,j]/(Lambda[i+1,j]+Lambda[i,j] + small) / dx\n",
    "    a_e = 2*Lambda[i,j+1]*Lambda[i,j]/(Lambda[i,j+1]+Lambda[i,j] + small) / dx\n",
    "    a_s = 2*Lambda[i-1,j]*Lambda[i,j]/(Lambda[i-1,j]+Lambda[i,j] + small) / dx\n",
    "    a_p = a_w + a_n + a_e + a_s - S_p[i,j]*dV\n",
    "    b = S_c[i,j]*dV\n",
    "    \n",
    "    return [a_w, a_n, a_e, a_s, a_p, b]\n",
    "\n",
    "\n",
    "refreshT()\n",
    "\n",
    "P = np.zeros(N)\n",
    "Q = np.zeros(N)\n",
    "\n",
    "for _ in tqdm_notebook(range(20)): \n",
    "    T_prom = T.copy()\n",
    "    for i in range(0,N-1):\n",
    "#         P = np.zeros(N)\n",
    "#         Q = np.zeros(N)\n",
    "        Q[0] = T[i, 0]\n",
    "        for j in range(0,N-1):            \n",
    "            a_w, a_n, a_e, a_s, a_p, b = getab(i,j)\n",
    "\n",
    "            P[j+1] = a_e / (a_p-a_w*P[j]+small)\n",
    "            Q[j+1] = (a_n*T[i+1,j]+a_s*T[i-1,j]+b + a_w*Q[j])/(a_p-a_w*P[j]+small)\n",
    "\n",
    "        for j in range(N-2, -1, -1):\n",
    "            T_prom[i,j] = P[j+1]*T_prom[i,j+1]+Q[j+1]\n",
    "            \n",
    "    T = T_prom.copy()\n",
    "    refreshT()\n",
    "\n",
    "    for j in range(0,N-1):\n",
    "#         P = np.zeros(N)\n",
    "#         Q = np.zeros(N)\n",
    "        Q[0] = T[0, j]\n",
    "        for i in range(0,N-1):\n",
    "            a_w, a_n, a_e, a_s, a_p, b = getab(i,j)\n",
    "\n",
    "            P[i+1] = a_n / (a_p-a_s*P[i]+small)\n",
    "            Q[i+1] = (a_w*T[i,j-1]+a_e*T[i,j+1]+b + a_s*Q[i])/(a_p-a_s*P[i]+small)\n",
    "\n",
    "        for i in range(N-2, -1, -1):\n",
    "            T_prom[i,j] = P[i+1]*T_prom[i+1,j]+Q[i+1]\n",
    "            \n",
    "    T = T_prom.copy()\n",
    "    refreshT()\n",
    "    \n",
    "    \n",
    "fig, ax = plt.subplots(figsize = (13,8))\n",
    "colorinterpolation = 50\n",
    "colourMap = plt.cm.jet\n",
    "picture = ax.contourf(T, colorinterpolation, cmap=colourMap)\n",
    "fig.colorbar(picture)\n",
    "\n",
    "# fig, ax = plt.subplots(figsize = (4,4))\n",
    "# picture = ax.imshow(T)\n",
    "# ax.tick_params(labelcolor='w')\n",
    "# fig.colorbar(picture)"
   ]
  },
  {
   "cell_type": "markdown",
   "metadata": {},
   "source": [
    "## Два простых примера"
   ]
  },
  {
   "cell_type": "markdown",
   "metadata": {},
   "source": [
    "### Фиксированные температуры"
   ]
  },
  {
   "cell_type": "code",
   "execution_count": 10,
   "metadata": {},
   "outputs": [
    {
     "data": {
      "application/vnd.jupyter.widget-view+json": {
       "model_id": "9beede0b18e24c508bacd5d09f11d01f",
       "version_major": 2,
       "version_minor": 0
      },
      "text/plain": [
       "HBox(children=(IntProgress(value=0, max=120), HTML(value='')))"
      ]
     },
     "metadata": {},
     "output_type": "display_data"
    },
    {
     "name": "stdout",
     "output_type": "stream",
     "text": [
      "\n"
     ]
    },
    {
     "data": {
      "text/plain": [
       "<matplotlib.colorbar.Colorbar at 0x2d54fcb36a0>"
      ]
     },
     "execution_count": 10,
     "metadata": {},
     "output_type": "execute_result"
    },
    {
     "data": {
      "image/png": "[encoded data removed]",
      "text/plain": [
       "<Figure size 504x360 with 2 Axes>"
      ]
     },
     "metadata": {
      "needs_background": "light"
     },
     "output_type": "display_data"
    }
   ],
   "source": [
    "N = 32\n",
    "T = np.zeros((N,N))\n",
    "T = np.random.random((N,N))\n",
    "\n",
    "dx = 0.1\n",
    "dV = dx**2\n",
    "\n",
    "T1 = 100\n",
    "T0 = 0\n",
    "\n",
    "L0 = 0.1\n",
    "Lambda = np.full((N,N), L0)\n",
    "\n",
    "S_c = np.zeros((N,N))\n",
    "S_p = np.zeros((N,N))\n",
    "\n",
    "small = 1e-15\n",
    "\n",
    "\n",
    "def refreshT():\n",
    "    \"\"\"\n",
    "    Зададим граничные условия на температуру\n",
    "    \"\"\"\n",
    "    \n",
    "    T[0, :] = T1\n",
    "    T[:, 0] = T0\n",
    "    T[:, -1] = T0\n",
    "    T[-1, :] = T0\n",
    "    \n",
    "def getab(i,j):\n",
    "    a_w = 2*Lambda[i,j-1]*Lambda[i,j]/(Lambda[i,j-1]+Lambda[i,j] + small) / dx\n",
    "    a_n = 2*Lambda[i+1,j]*Lambda[i,j]/(Lambda[i+1,j]+Lambda[i,j] + small) / dx\n",
    "    a_e = 2*Lambda[i,j+1]*Lambda[i,j]/(Lambda[i,j+1]+Lambda[i,j] + small) / dx\n",
    "    a_s = 2*Lambda[i-1,j]*Lambda[i,j]/(Lambda[i-1,j]+Lambda[i,j] + small) / dx\n",
    "    a_p = a_w + a_n + a_e + a_s - S_p[i,j]*dV\n",
    "    b = S_c[i,j]*dV\n",
    "    \n",
    "    return [a_w, a_n, a_e, a_s, a_p, b]\n",
    "\n",
    "\n",
    "refreshT()\n",
    "\n",
    "for _ in tqdm_notebook(range(120)): \n",
    "    T_prom = T.copy()\n",
    "    for i in range(0,N-1):\n",
    "        P = np.zeros(N)\n",
    "        Q = np.zeros(N)\n",
    "        Q[0] = T[i, 0]\n",
    "        for j in range(0,N-1):            \n",
    "            a_w, a_n, a_e, a_s, a_p, b = getab(i,j)\n",
    "\n",
    "            P[j+1] = a_e / (a_p-a_w*P[j])\n",
    "            Q[j+1] = (a_n*T[i+1,j]+a_s*T[i-1,j]+b + a_w*Q[j])/(a_p-a_w*P[j])\n",
    "\n",
    "        for j in range(N-2, -1, -1):\n",
    "            T_prom[i,j] = P[j+1]*T_prom[i,j+1]+Q[j+1]\n",
    "            \n",
    "    T = T_prom.copy()\n",
    "    refreshT()\n",
    "\n",
    "    for j in range(0,N-1):\n",
    "        P = np.zeros(N)\n",
    "        Q = np.zeros(N)\n",
    "        Q[0] = T[0, j]\n",
    "        for i in range(0,N-1):\n",
    "            a_w, a_n, a_e, a_s, a_p, b = getab(i,j)\n",
    "\n",
    "            P[i+1] = a_n / (a_p-a_s*P[i])\n",
    "            Q[i+1] = (a_w*T[i,j-1]+a_e*T[i,j+1]+b + a_s*Q[i])/(a_p-a_s*P[i])\n",
    "\n",
    "        for i in range(N-2, -1, -1):\n",
    "            T_prom[i,j] = P[i+1]*T_prom[i+1,j]+Q[i+1]\n",
    "            \n",
    "    T = T_prom.copy()\n",
    "    refreshT()\n",
    "    \n",
    "    \n",
    "fig, ax = plt.subplots(figsize = (7,5))\n",
    "colorinterpolation = 50\n",
    "colourMap = plt.cm.jet\n",
    "picture = ax.contourf(T, colorinterpolation, cmap=colourMap)\n",
    "fig.colorbar(picture)"
   ]
  },
  {
   "cell_type": "markdown",
   "metadata": {},
   "source": [
    "### Две фиксированные температуры и нулевые потонки на стенках"
   ]
  },
  {
   "cell_type": "code",
   "execution_count": 11,
   "metadata": {},
   "outputs": [
    {
     "data": {
      "application/vnd.jupyter.widget-view+json": {
       "model_id": "91f98b2c034e44019ea7135425f5dda5",
       "version_major": 2,
       "version_minor": 0
      },
      "text/plain": [
       "HBox(children=(IntProgress(value=0, max=120), HTML(value='')))"
      ]
     },
     "metadata": {},
     "output_type": "display_data"
    },
    {
     "name": "stdout",
     "output_type": "stream",
     "text": [
      "\n"
     ]
    },
    {
     "data": {
      "text/plain": [
       "<matplotlib.colorbar.Colorbar at 0x2d54fef9390>"
      ]
     },
     "execution_count": 11,
     "metadata": {},
     "output_type": "execute_result"
    },
    {
     "data": {
      "image/png": "[encoded data removed]",
      "text/plain": [
       "<Figure size 504x360 with 2 Axes>"
      ]
     },
     "metadata": {
      "needs_background": "light"
     },
     "output_type": "display_data"
    }
   ],
   "source": [
    "N = 32\n",
    "T = np.zeros((N,N))\n",
    "T = np.random.random((N,N))\n",
    "\n",
    "dx = 0.1\n",
    "dV = dx**2\n",
    "\n",
    "T1 = 100\n",
    "T0 = 0\n",
    "\n",
    "L0 = 0.1\n",
    "Lambda = np.full((N,N), L0)\n",
    "\n",
    "S_c = np.zeros((N,N))\n",
    "S_p = np.zeros((N,N))\n",
    "\n",
    "small = 1e-15\n",
    "\n",
    "\n",
    "def refreshT():\n",
    "    \"\"\"\n",
    "    Зададим граничные условия на температуру\n",
    "    \"\"\"\n",
    "    \n",
    "    T[0, :] = T1\n",
    "    T[:, 0] = T[:, 1]\n",
    "    T[:, -1] = T[:, -2]\n",
    "    T[-1, :] = T0\n",
    "    \n",
    "def getab(i,j):\n",
    "    a_w = 2*Lambda[i,j-1]*Lambda[i,j]/(Lambda[i,j-1]+Lambda[i,j] + small) / dx\n",
    "    a_n = 2*Lambda[i+1,j]*Lambda[i,j]/(Lambda[i+1,j]+Lambda[i,j] + small) / dx\n",
    "    a_e = 2*Lambda[i,j+1]*Lambda[i,j]/(Lambda[i,j+1]+Lambda[i,j] + small) / dx\n",
    "    a_s = 2*Lambda[i-1,j]*Lambda[i,j]/(Lambda[i-1,j]+Lambda[i,j] + small) / dx\n",
    "    a_p = a_w + a_n + a_e + a_s - S_p[i,j]*dV\n",
    "    b = S_c[i,j]*dV\n",
    "    \n",
    "    return [a_w, a_n, a_e, a_s, a_p, b]\n",
    "\n",
    "\n",
    "refreshT()\n",
    "\n",
    "for _ in tqdm_notebook(range(120)): \n",
    "    T_prom = T.copy()\n",
    "    for i in range(0,N-1):\n",
    "        P = np.zeros(N)\n",
    "        Q = np.zeros(N)\n",
    "        Q[0] = T[i, 0]\n",
    "        for j in range(0,N-1):            \n",
    "            a_w, a_n, a_e, a_s, a_p, b = getab(i,j)\n",
    "\n",
    "            P[j+1] = a_e / (a_p-a_w*P[j])\n",
    "            Q[j+1] = (a_n*T[i+1,j]+a_s*T[i-1,j]+b + a_w*Q[j])/(a_p-a_w*P[j])\n",
    "\n",
    "        for j in range(N-2, -1, -1):\n",
    "            T_prom[i,j] = P[j+1]*T_prom[i,j+1]+Q[j+1]\n",
    "            \n",
    "    T = T_prom.copy()\n",
    "    refreshT()\n",
    "\n",
    "    for j in range(0,N-1):\n",
    "        P = np.zeros(N)\n",
    "        Q = np.zeros(N)\n",
    "        Q[0] = T[0, j]\n",
    "        for i in range(0,N-1):\n",
    "            a_w, a_n, a_e, a_s, a_p, b = getab(i,j)\n",
    "\n",
    "            P[i+1] = a_n / (a_p-a_s*P[i])\n",
    "            Q[i+1] = (a_w*T[i,j-1]+a_e*T[i,j+1]+b + a_s*Q[i])/(a_p-a_s*P[i])\n",
    "\n",
    "        for i in range(N-2, -1, -1):\n",
    "            T_prom[i,j] = P[i+1]*T_prom[i+1,j]+Q[i+1]\n",
    "            \n",
    "    T = T_prom.copy()\n",
    "    refreshT()\n",
    "    \n",
    "    \n",
    "fig, ax = plt.subplots(figsize = (7,5))\n",
    "colorinterpolation = 50\n",
    "colourMap = plt.cm.jet\n",
    "picture = ax.contourf(T, colorinterpolation, cmap=colourMap)\n",
    "fig.colorbar(picture)"
   ]
  },
  {
   "cell_type": "code",
   "execution_count": null,
   "metadata": {},
   "outputs": [],
   "source": []
  }
 ],
 "metadata": {
  "kernelspec": {
   "display_name": "Python 3",
   "language": "python",
   "name": "python3"
  },
  "language_info": {
   "codemirror_mode": {
    "name": "ipython",
    "version": 3
   },
   "file_extension": ".py",
   "mimetype": "text/x-python",
   "name": "python",
   "nbconvert_exporter": "python",
   "pygments_lexer": "ipython3",
   "version": "3.7.1"
  }
 },
 "nbformat": 4,
 "nbformat_minor": 2
}
