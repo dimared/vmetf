{
 "cells": [
  {
   "cell_type": "code",
   "execution_count": 5,
   "metadata": {},
   "outputs": [],
   "source": [
    "import numpy as np\n",
    "import matplotlib.pyplot as plt\n",
    "from numpy import pi, sin"
   ]
  },
  {
   "cell_type": "markdown",
   "metadata": {},
   "source": [
    "### Стационарная теплопроводность в неоднородном стержне\n",
    "\n",
    "$$\n",
    "-\\frac{d}{dx} (k \\frac{du}{dx}) = f(x),    0<x<1 \\\\\n",
    "u(0) = g_0, u(1) = g_1\n",
    "$$"
   ]
  },
  {
   "cell_type": "code",
   "execution_count": 2,
   "metadata": {},
   "outputs": [],
   "source": [
    "def f(x):\n",
    "    return 1 + pi/2 * sin(pi*x)\n",
    "\n",
    "\n",
    "def k(x):\n",
    "    return 1\n",
    "\n",
    "\n",
    "g0 = 0\n",
    "g1 = 1"
   ]
  },
  {
   "cell_type": "code",
   "execution_count": 3,
   "metadata": {},
   "outputs": [],
   "source": [
    "def preciseSolution(x):\n",
    "    \"\"\"\n",
    "    Precise solution for parameters:\n",
    "    f(x) = 1 + pi/2 * sin(pi*x)\n",
    "    k(x) = 1\n",
    "    g0 = 0\n",
    "    g1 = 1\n",
    "    \"\"\"\n",
    "    \n",
    "    return -g0*(x-1)+x/2*(2*g1-x+1)+sin(pi*x)/(2*pi)"
   ]
  },
  {
   "cell_type": "code",
   "execution_count": null,
   "metadata": {},
   "outputs": [],
   "source": [
    "def solver(N):\n",
    "    M = 2*N+1\n",
    "    \n",
    "    "
   ]
  },
  {
   "cell_type": "code",
   "execution_count": 7,
   "metadata": {},
   "outputs": [
    {
     "data": {
      "text/plain": [
       "[<matplotlib.lines.Line2D at 0x29664032b70>]"
      ]
     },
     "execution_count": 7,
     "metadata": {},
     "output_type": "execute_result"
    },
    {
     "data": {
      "image/png": "[encoded data removed]",
      "text/plain": [
       "<Figure size 432x288 with 1 Axes>"
      ]
     },
     "metadata": {
      "needs_background": "light"
     },
     "output_type": "display_data"
    }
   ],
   "source": [
    "x = np.linspace(0,1,10)\n",
    "y = [preciseSolution(i) for i in x]\n",
    "f = [f(i) for i in x]\n",
    "plt.plot(x,y)\n",
    "plt.plot(x,f)"
   ]
  },
  {
   "cell_type": "code",
   "execution_count": null,
   "metadata": {},
   "outputs": [],
   "source": []
  }
 ],
 "metadata": {
  "kernelspec": {
   "display_name": "Python [conda env:root] *",
   "language": "python",
   "name": "conda-root-py"
  },
  "language_info": {
   "codemirror_mode": {
    "name": "ipython",
    "version": 3
   },
   "file_extension": ".py",
   "mimetype": "text/x-python",
   "name": "python",
   "nbconvert_exporter": "python",
   "pygments_lexer": "ipython3",
   "version": "3.7.1"
  }
 },
 "nbformat": 4,
 "nbformat_minor": 2
}
